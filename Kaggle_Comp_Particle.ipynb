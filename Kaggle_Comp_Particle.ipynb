{
 "cells": [
  {
   "cell_type": "markdown",
   "metadata": {},
   "source": [
    "# Particle prediction: Kaggle competition\n",
    "---"
   ]
  },
  {
   "cell_type": "code",
   "execution_count": 8,
   "metadata": {},
   "outputs": [],
   "source": [
    "import pandas as pd\n",
    "import matplotlib.pyplot as plt\n",
    "import numpy as np\n",
    "from time import time\n",
    "from sklearn.preprocessing import scale\n",
    "from sklearn.metrics import roc_auc_score\n",
    "import seaborn as sns\n",
    "from sklearn.model_selection import GridSearchCV\n",
    "from joblib import dump, load\n",
    "from sklearn.model_selection import train_test_split"
   ]
  },
  {
   "cell_type": "code",
   "execution_count": 9,
   "metadata": {},
   "outputs": [],
   "source": [
    "# Reading data\n",
    "X = pd.read_csv(\"./X_train.dat\",index_col=0)\n",
    "Y = pd.read_csv(\"./y_train.dat\",names =[\"Y\"],index_col=0)\n",
    "X_test =   pd.read_csv(\"./X_test.dat\",index_col=0)\n",
    "index_test = pd.read_csv(\"./sample.dat\",index_col=0)\n",
    "\n",
    "# Split data into validation and training data\n",
    "X_train, X_val, Y_train, y_val = train_test_split(scale(X.values), Y.values, test_size=0.15, random_state=42)"
   ]
  },
  {
   "cell_type": "code",
   "execution_count": 10,
   "metadata": {},
   "outputs": [],
   "source": [
    "# Function to generate submission file in the correct format\n",
    "def generate_submission_file (model,X_test,file_name):\n",
    "    # Computing probs for Y=1\n",
    "    probs = model.predict_proba(X_test.values)[:,1]\n",
    "    Ids = X_test.index.values\n",
    "    prediction =  pd.DataFrame({'Id':Ids, 'Prediction':probs})\n",
    "    prediction.to_csv(\"./\"+file_name,index= None, header = True)"
   ]
  },
  {
   "cell_type": "markdown",
   "metadata": {},
   "source": [
    "**Algorithms below may take long time to output a result depending on the grid search \"size\"**"
   ]
  },
  {
   "cell_type": "markdown",
   "metadata": {},
   "source": [
    "### Logistic regression with regularization"
   ]
  },
  {
   "cell_type": "code",
   "execution_count": null,
   "metadata": {},
   "outputs": [],
   "source": [
    "from sklearn.linear_model import LogisticRegressionCV\n",
    "print(\"Fitting the classifier to LogReg\")\n",
    "\n",
    "lr_l2 = LogisticRegressionCV(cv=5,\n",
    "                             scoring='roc_auc', \n",
    "                             penalty='l2',\n",
    "                             random_state=0,\n",
    "                             max_iter=500).fit(X_train, Y_train)\n",
    "\n",
    "lr_l1 = LogisticRegressionCV(cv=5,\n",
    "                             scoring='roc_auc',\n",
    "                             penalty='l1',\n",
    "                             solver='liblinear',\n",
    "                             random_state=0,\n",
    "                             max_iter=500).fit(X_train, Y_train)\n",
    "\n",
    "dump(lr_l1, 'lr_l1.joblib')\n",
    "dump(lr_l2, 'lr_l2.joblib') "
   ]
  },
  {
   "cell_type": "code",
   "execution_count": null,
   "metadata": {},
   "outputs": [],
   "source": [
    "print(f\"The AUC on val set for Logistic Regression with L2 is: \\n{roc_auc_score(y_val,lr_l2.predict_proba(X_val)[:,1])}\")\n",
    "print(f\"The AUC on val for Logistic Regression with L1 is: \\n{roc_auc_score(y_val,lr_l1.predict_proba(X_val)[:,1])}\")"
   ]
  },
  {
   "cell_type": "code",
   "execution_count": null,
   "metadata": {},
   "outputs": [],
   "source": [
    "generate_submission_file(lr_l1,X_test,\"test\")"
   ]
  },
  {
   "cell_type": "markdown",
   "metadata": {},
   "source": [
    "### SVM"
   ]
  },
  {
   "cell_type": "code",
   "execution_count": null,
   "metadata": {},
   "outputs": [],
   "source": [
    "from sklearn.svm import SVC\n",
    "\n",
    "print(\"Fitting the classifier to SVM\")\n",
    "t0 = time()\n",
    "param_grid = {'C': [1e-1]}\n",
    "svm = GridSearchCV(SVC(kernel='rbf',\n",
    "                       gamma = 'auto',\n",
    "                       probability = True),\n",
    "                   scoring = 'roc_auc',\n",
    "                   param_grid = param_grid,\n",
    "                   n_jobs = -1,\n",
    "                   cv=5)\n",
    "svm.fit(X_train, Y_train.Y)\n",
    "\n",
    "#dump(svm, 'svm.joblib')\n",
    "print(\"done in %0.3fs\" % (time() - t0))\n",
    "print(\"Best estimator found by grid search:\")\n",
    "print(svm.best_estimator_)\n",
    "print(f\"The AUC for SVM: \\n{svm.best_score_}\")"
   ]
  },
  {
   "cell_type": "code",
   "execution_count": null,
   "metadata": {},
   "outputs": [],
   "source": [
    "print(f\"The AUC on val for SVM is: \\n{roc_auc_score(y_val,svm.predict_proba(X_val)[:,1])}\")"
   ]
  },
  {
   "cell_type": "code",
   "execution_count": null,
   "metadata": {},
   "outputs": [],
   "source": [
    "generate_submission_file(svm,X_test,\"test\")"
   ]
  },
  {
   "cell_type": "markdown",
   "metadata": {},
   "source": [
    "### KNN"
   ]
  },
  {
   "cell_type": "code",
   "execution_count": null,
   "metadata": {},
   "outputs": [],
   "source": [
    "### TAKES LONG TIME\n",
    "\n",
    "from sklearn.neighbors import KNeighborsClassifier\n",
    "\n",
    "print(\"Fitting the classifier to KNN\")\n",
    "t0 = time()\n",
    "param_grid = {'n_neighbors': np.arange(1,10,5)}\n",
    "knn = GridSearchCV(KNeighborsClassifier(),\n",
    "                   param_grid,\n",
    "                   cv=5,\n",
    "                   scoring = 'roc_auc',\n",
    "                   n_jobs=-1)\n",
    "knn = knn.fit(X_train, Y_train.Y)\n",
    "\n",
    "dump(knn, 'knn.joblib')\n",
    "print(\"done in %0.3fs\" % (time() - t0))\n",
    "print(\"Best estimator found by grid search:\")\n",
    "print(knn.best_estimator_)\n",
    "print(f\"The AUC for KNN: \\n{knn.best_score_}\")"
   ]
  },
  {
   "cell_type": "code",
   "execution_count": null,
   "metadata": {},
   "outputs": [],
   "source": [
    "print(f\"The AUC on val for KNN is: \\n{roc_auc_score(y_val,knn.predict_proba(X_val)[:,1])}\")"
   ]
  },
  {
   "cell_type": "markdown",
   "metadata": {},
   "source": [
    "### Random forest"
   ]
  },
  {
   "cell_type": "code",
   "execution_count": null,
   "metadata": {},
   "outputs": [],
   "source": [
    "from sklearn.ensemble import RandomForestClassifier\n",
    "\n",
    "print(\"Fitting the classifier to Random Forest\")\n",
    "t0 = time()\n",
    "param_grid = { \n",
    "    'n_estimators': [50, 100,500],\n",
    "    'max_features': ['auto'],\n",
    "    'max_depth' : [4,6,10,14],\n",
    "    'criterion' :['entropy']\n",
    "}\n",
    "rfc = GridSearchCV(RandomForestClassifier(),\n",
    "                   param_grid,\n",
    "                   cv=5,\n",
    "                   scoring = 'roc_auc',\n",
    "                   n_jobs=-1)\n",
    "rfc = rfc.fit(X_train, Y_train.Y)\n",
    "\n",
    "dump(rfc, 'rfc.joblib')\n",
    "print(\"done in %0.3fs\" % (time() - t0))\n",
    "print(\"Best estimator found by grid search:\")\n",
    "print(rfc.best_estimator_)\n",
    "print(f\"The AUC for RF: \\n{rfc.best_score_}\")\n"
   ]
  },
  {
   "cell_type": "code",
   "execution_count": null,
   "metadata": {},
   "outputs": [],
   "source": [
    "print(f\"The AUC on val for RF is: \\n{roc_auc_score(y_val,rfc.predict_proba(X_val)[:,1])}\")"
   ]
  },
  {
   "cell_type": "markdown",
   "metadata": {},
   "source": [
    "### Gradient boost classifiers"
   ]
  },
  {
   "cell_type": "code",
   "execution_count": 29,
   "metadata": {},
   "outputs": [
    {
     "name": "stdout",
     "output_type": "stream",
     "text": [
      "Fitting the classifier to XGBoost\n",
      "Fitting 5 folds for each of 1 candidates, totalling 5 fits\n"
     ]
    },
    {
     "name": "stderr",
     "output_type": "stream",
     "text": [
      "[Parallel(n_jobs=-1)]: Using backend LokyBackend with 8 concurrent workers.\n",
      "[Parallel(n_jobs=-1)]: Done   2 out of   5 | elapsed:   12.0s remaining:   18.0s\n",
      "[Parallel(n_jobs=-1)]: Done   3 out of   5 | elapsed:   12.4s remaining:    8.3s\n",
      "[Parallel(n_jobs=-1)]: Done   5 out of   5 | elapsed:   16.6s remaining:    0.0s\n",
      "[Parallel(n_jobs=-1)]: Done   5 out of   5 | elapsed:   16.6s finished\n",
      "/home/jrd/anaconda3/lib/python3.6/site-packages/sklearn/preprocessing/label.py:219: DataConversionWarning: A column-vector y was passed when a 1d array was expected. Please change the shape of y to (n_samples, ), for example using ravel().\n",
      "  y = column_or_1d(y, warn=True)\n",
      "/home/jrd/anaconda3/lib/python3.6/site-packages/sklearn/preprocessing/label.py:252: DataConversionWarning: A column-vector y was passed when a 1d array was expected. Please change the shape of y to (n_samples, ), for example using ravel().\n",
      "  y = column_or_1d(y, warn=True)\n"
     ]
    },
    {
     "name": "stdout",
     "output_type": "stream",
     "text": [
      "done in 29.341s\n",
      "Best estimator found by grid search:\n",
      "XGBClassifier(base_score=0.5, booster='gbtree', colsample_bylevel=1,\n",
      "       colsample_bytree=1, gamma=0, learning_rate=0.1, max_delta_step=0,\n",
      "       max_depth=6, min_child_weight=4, missing=None, n_estimators=100,\n",
      "       n_jobs=1, nthread=None, objective='binary:logistic', random_state=0,\n",
      "       reg_alpha=0.1, reg_lambda=3, scale_pos_weight=1, seed=None,\n",
      "       silent=1, subsample=1)\n",
      "The AUC for RF: \n",
      "0.8244410775090415\n"
     ]
    }
   ],
   "source": [
    "import xgboost as xgb\n",
    "\n",
    "print(\"Fitting the classifier to XGBoost\")\n",
    "\n",
    "# Param grid already tuned\n",
    "t0 = time()\n",
    "param_grid = {'max_depth':[6],\n",
    "              'gamma': [0],\n",
    "              'min_child_weight':[4],\n",
    "              'reg_lambda':[3],\n",
    "              'reg_alpha':[0.1],\n",
    "              'silent': [1],\n",
    "              'objective': ['binary:logistic']}\n",
    "\n",
    "xgb_cl = GridSearchCV(xgb.XGBClassifier(),\n",
    "                   param_grid,\n",
    "                   cv=5,\n",
    "                   scoring = 'roc_auc',\n",
    "                   n_jobs=-1,\n",
    "                    verbose = 0)\n",
    "\n",
    "xgb_cl.fit(X_train,Y_train)\n",
    "\n",
    "#dump(xgb_cl, 'xgb_cl5.joblib')\n",
    "print(\"done in %0.3fs\" % (time() - t0))\n",
    "print(\"Best estimator found by grid search:\")\n",
    "print(xgb_cl.best_estimator_)\n",
    "print(f\"The AUC for RF: \\n{xgb_cl.best_score_}\")"
   ]
  },
  {
   "cell_type": "code",
   "execution_count": 25,
   "metadata": {},
   "outputs": [
    {
     "name": "stdout",
     "output_type": "stream",
     "text": [
      "The AUC on val for XGBoost is: \n",
      "0.825128284340518\n"
     ]
    }
   ],
   "source": [
    "print(f\"The AUC on val for XGBoost is: \\n{roc_auc_score(y_val,xgb_cl.predict_proba(X_val)[:,1])}\")"
   ]
  },
  {
   "cell_type": "code",
   "execution_count": 30,
   "metadata": {},
   "outputs": [
    {
     "name": "stderr",
     "output_type": "stream",
     "text": [
      "/home/jrd/anaconda3/lib/python3.6/site-packages/sklearn/preprocessing/label.py:219: DataConversionWarning: A column-vector y was passed when a 1d array was expected. Please change the shape of y to (n_samples, ), for example using ravel().\n",
      "  y = column_or_1d(y, warn=True)\n",
      "/home/jrd/anaconda3/lib/python3.6/site-packages/sklearn/preprocessing/label.py:252: DataConversionWarning: A column-vector y was passed when a 1d array was expected. Please change the shape of y to (n_samples, ), for example using ravel().\n",
      "  y = column_or_1d(y, warn=True)\n"
     ]
    },
    {
     "name": "stdout",
     "output_type": "stream",
     "text": [
      "The AUC on val for XGBoost is: \n",
      "0.8253722582638244\n"
     ]
    }
   ],
   "source": [
    "best_model = xgb.XGBClassifier(**xgb_cl.best_params_)\n",
    "best_model.fit(X.values,Y.values)\n",
    "print(f\"The AUC on val for XGBoost is: \\n{roc_auc_score(y_val,xgb_cl.predict_proba(X_val)[:,1])}\")"
   ]
  },
  {
   "cell_type": "code",
   "execution_count": 31,
   "metadata": {},
   "outputs": [],
   "source": [
    "generate_submission_file(best_model,X_test,\"XGB_Submission_6\")"
   ]
  }
 ],
 "metadata": {
  "kernelspec": {
   "display_name": "Python 3",
   "language": "python",
   "name": "python3"
  },
  "language_info": {
   "codemirror_mode": {
    "name": "ipython",
    "version": 3
   },
   "file_extension": ".py",
   "mimetype": "text/x-python",
   "name": "python",
   "nbconvert_exporter": "python",
   "pygments_lexer": "ipython3",
   "version": "3.6.6"
  },
  "varInspector": {
   "cols": {
    "lenName": 16,
    "lenType": 16,
    "lenVar": 40
   },
   "kernels_config": {
    "python": {
     "delete_cmd_postfix": "",
     "delete_cmd_prefix": "del ",
     "library": "var_list.py",
     "varRefreshCmd": "print(var_dic_list())"
    },
    "r": {
     "delete_cmd_postfix": ") ",
     "delete_cmd_prefix": "rm(",
     "library": "var_list.r",
     "varRefreshCmd": "cat(var_dic_list()) "
    }
   },
   "types_to_exclude": [
    "module",
    "function",
    "builtin_function_or_method",
    "instance",
    "_Feature"
   ],
   "window_display": false
  }
 },
 "nbformat": 4,
 "nbformat_minor": 2
}
